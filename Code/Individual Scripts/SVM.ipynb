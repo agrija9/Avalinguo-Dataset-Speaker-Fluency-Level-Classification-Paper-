{
 "cells": [
  {
   "cell_type": "markdown",
   "metadata": {},
   "source": [
    "#### SVM Classification "
   ]
  },
  {
   "cell_type": "code",
   "execution_count": null,
   "metadata": {},
   "outputs": [],
   "source": [
    "#Load data from generated numpy files\n",
    "X = np.load('feat.npy') # list of features\n",
    "y = np.load('label.npy').ravel() # labels are the target"
   ]
  },
  {
   "cell_type": "code",
   "execution_count": null,
   "metadata": {},
   "outputs": [],
   "source": [
    "# coding= UTF-8\n",
    "import numpy as np \n",
    "import sklearn\n",
    "from sklearn.svm import SVC, LinearSVC\n",
    "from sklearn.model_selection import train_test_split\n",
    "from sklearn.model_selection import GridSearchCV\n",
    "from sklearn.metrics import classification_report\n",
    "from sklearn.metrics import accuracy_score\n",
    "from sklearn.preprocessing import StandardScaler\n",
    "\n",
    "from sklearn.model_selection import RandomizedSearchCV\n",
    "from scipy.stats import reciprocal, uniform\n",
    "\n",
    "#Load data from generated numpy files\n",
    "X = np.load('feat.npy') # list of features\n",
    "y = np.load('label.npy').ravel() # labels are the target\n",
    "\n",
    "# Fix random seed number\n",
    "np.random.seed(7)\n",
    "\n",
    "# Load the data\n",
    "X_train, X_test, y_train, y_test = train_test_split(X, y, test_size=0.3, random_state=30) \n",
    "\n",
    "# SVM classifier\n",
    "svm_clf = SVC(C=200, gamma = 0.0001, kernel='rbf', decision_function_shape=\"ovr\") \n",
    "#svm_clf = LinearSVC(random_state=42) # HandsOn git\n",
    "\n",
    "# Fit model\n",
    "svm_clf.fit(X_train, y_train) #From Beif github\n",
    "\n",
    "# Predictions\n",
    "y_predict = svm_clf.predict(X_test)\n",
    "\n",
    "# Accuracy Result\n",
    "acc = svm_clf.score(X_test, y_test)\n",
    "print\n",
    "print(\"Final accuracy = %0.4f\" %acc)\n",
    "#print('\\n')\n",
    "#print(classification_report(y_test, y_predict)) "
   ]
  },
  {
   "cell_type": "markdown",
   "metadata": {},
   "source": [
    "##### Compute Confussion Matrix"
   ]
  },
  {
   "cell_type": "code",
   "execution_count": null,
   "metadata": {},
   "outputs": [],
   "source": [
    "# Label integer encoding \n",
    "label_classes = np.array(['Low','Intermediate','High'])\n",
    "#print(label_classes)\n",
    "\n",
    "# De-encoding predicted and actual classes (going from numeric to written)\n",
    "prediction_decoded = label_classes[y_predict]\n",
    "actual_value_decoded = label_classes[y_test]\n",
    "\n",
    "#Compute confusion matrix\n",
    "pd.crosstab(actual_value_decoded, prediction_decoded)"
   ]
  }
 ],
 "metadata": {
  "kernelspec": {
   "display_name": "Python2.7 Conda2",
   "language": "python",
   "name": "anaconda2_py27"
  },
  "language_info": {
   "codemirror_mode": {
    "name": "ipython",
    "version": 2
   },
   "file_extension": ".py",
   "mimetype": "text/x-python",
   "name": "python",
   "nbconvert_exporter": "python",
   "pygments_lexer": "ipython2",
   "version": "2.7.14"
  }
 },
 "nbformat": 4,
 "nbformat_minor": 2
}
