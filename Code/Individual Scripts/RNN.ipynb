{
 "cells": [
  {
   "cell_type": "markdown",
   "metadata": {},
   "source": [
    "#### RNN Classification (Keras Tensorflow)"
   ]
  },
  {
   "cell_type": "code",
   "execution_count": null,
   "metadata": {},
   "outputs": [],
   "source": [
    "# coding= UTF-8\n",
    "import os\n",
    "import numpy as np\n",
    "from sklearn.model_selection import train_test_split\n",
    "import keras\n",
    "from keras.models import Sequential\n",
    "from keras.layers.recurrent import LSTM\n",
    "from keras.layers import Dense\n",
    "from keras.optimizers import Adam\n",
    "\n",
    "# Load data \n",
    "X = np.load(\"feat.npy\")\n",
    "y = np.load('label.npy').ravel()\n",
    "\n",
    "# Fix random seed number\n",
    "np.random.seed(7)\n",
    "\n",
    "number_of_features = len(X[1]) \n",
    "number_of_classes = 3\n",
    "\n",
    "# Split data\n",
    "X_train, X_test, y_train, y_test = train_test_split(X, y, test_size = 0.30, random_state = 230)\n",
    "\n",
    "\n",
    "# Reshape data for LSTM (Samples, Timesteps, Features)\n",
    "X_train = np.expand_dims(X_train, axis=2) #(280,193,1)\n",
    "X_test = np.expand_dims(X_test, axis=2)\n",
    "\n",
    "y_train = keras.utils.to_categorical(y_train - 1, num_classes= number_of_classes) # Converts a class vector (integers) to binary class matrix\n",
    "y_test = keras.utils.to_categorical(y_test - 1, num_classes= number_of_classes)\n",
    "\n",
    "# Build RNN Neural Network\n",
    "print('Build LSTM RNN model ...')\n",
    "model = Sequential()\n",
    "model.add(LSTM(256, return_sequences=True, input_shape=X_train.shape[1:]))\n",
    "model.add(LSTM(32, return_sequences=False))\n",
    "\n",
    "#model.add(LSTM(16, return_sequences=False))\n",
    "model.add(Dense(number_of_classes, activation='softmax'))\n",
    "          \n",
    "print(\"Compiling ...\")\n",
    "model.compile(loss='categorical_crossentropy', # for multiple classes\n",
    "              optimizer='rmsprop', \n",
    "              metrics=['accuracy'])\n",
    "\n",
    "print(model.summary())\n",
    "\n",
    "print(\"Training ...\")\n",
    "model.fit(X_train, y_train, batch_size=64, epochs=60)\n",
    "\n",
    "print(\"\\nValidating ...\")\n",
    "score, accuracy = model.evaluate(X_test, y_test, batch_size=32, verbose=1)\n",
    "print(\"Loss:  \", score)\n",
    "print(\"Accuracy:  \", accuracy)"
   ]
  }
 ],
 "metadata": {
  "kernelspec": {
   "display_name": "Python2.7 Conda2",
   "language": "python",
   "name": "anaconda2_py27"
  },
  "language_info": {
   "codemirror_mode": {
    "name": "ipython",
    "version": 2
   },
   "file_extension": ".py",
   "mimetype": "text/x-python",
   "name": "python",
   "nbconvert_exporter": "python",
   "pygments_lexer": "ipython2",
   "version": "2.7.14"
  }
 },
 "nbformat": 4,
 "nbformat_minor": 2
}
