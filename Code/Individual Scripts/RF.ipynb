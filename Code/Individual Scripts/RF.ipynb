{
 "cells": [
  {
   "cell_type": "markdown",
   "metadata": {},
   "source": [
    "#### Random Forest Classification (Sklearn)"
   ]
  },
  {
   "cell_type": "code",
   "execution_count": null,
   "metadata": {},
   "outputs": [],
   "source": [
    "from sklearn.ensemble import RandomForestClassifier #Random Forest classifier\n",
    "import pandas as pd \n",
    "import numpy as np\n",
    "np.random.seed(7)"
   ]
  },
  {
   "cell_type": "code",
   "execution_count": null,
   "metadata": {},
   "outputs": [],
   "source": [
    "#Load data \n",
    "X = np.load('feat.npy') \n",
    "y = np.load('label.npy').ravel() \n",
    "\n",
    "\n",
    "#Split data\n",
    "X_train, X_test, y_train, y_test = train_test_split(X, y, test_size=0.30, random_state=6)\n",
    "\n",
    "# Initialize classifier\n",
    "rf_clf = RandomForestClassifier(n_estimators=350, n_jobs=2, random_state=6, max_features=\"auto\") \n",
    "\n",
    "# Train model\n",
    "rf_clf.fit(X_train, y_train)\n",
    "\n",
    "# Make predictions\n",
    "y_prediction = rf_clf.predict(X_test)\n",
    "\n",
    "# Evaluate accuracy\n",
    "acc = rf_clf.score(X_test, y_test) \n",
    "print \"Accuracy = %0.5f\" %acc"
   ]
  },
  {
   "cell_type": "code",
   "execution_count": null,
   "metadata": {},
   "outputs": [],
   "source": [
    "# View the predicted probabilities of the first n observations\n",
    "rf_clf.predict_proba(X_test)[0:10]"
   ]
  },
  {
   "cell_type": "markdown",
   "metadata": {},
   "source": [
    "##### Compute Confussion Matrix"
   ]
  },
  {
   "cell_type": "code",
   "execution_count": null,
   "metadata": {},
   "outputs": [],
   "source": [
    "# Label integer encoding \n",
    "label_classes = np.array(['Low','Intermediate','High'])\n",
    "#print(label_classes)\n",
    "\n",
    "# De-encoding predicted and actual classes (going from numeric to written)\n",
    "prediction_decoded = label_classes[y_prediction]\n",
    "actual_value_decoded = label_classes[y_test]\n",
    "\n",
    "## Confusion Matrix\n",
    "pd.crosstab(actual_value_decoded, prediction_decoded)"
   ]
  },
  {
   "cell_type": "code",
   "execution_count": null,
   "metadata": {},
   "outputs": [],
   "source": []
  }
 ],
 "metadata": {
  "kernelspec": {
   "display_name": "Python2.7 Conda2",
   "language": "python",
   "name": "anaconda2_py27"
  },
  "language_info": {
   "codemirror_mode": {
    "name": "ipython",
    "version": 2
   },
   "file_extension": ".py",
   "mimetype": "text/x-python",
   "name": "python",
   "nbconvert_exporter": "python",
   "pygments_lexer": "ipython2",
   "version": "2.7.14"
  }
 },
 "nbformat": 4,
 "nbformat_minor": 2
}
